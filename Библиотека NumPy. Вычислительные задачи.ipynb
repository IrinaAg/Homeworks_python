{
 "cells": [
  {
   "cell_type": "code",
   "execution_count": 1,
   "id": "246bee38",
   "metadata": {},
   "outputs": [],
   "source": [
    "import numpy as np\n",
    "from numpy import linalg"
   ]
  },
  {
   "cell_type": "markdown",
   "id": "2fb819c4",
   "metadata": {},
   "source": [
    "Задание 1 Создайте numpy array с элементами от числа N до 0. Например, для N = 10 это будет array([9, 8, 7, 6, 5, 4, 3, 2, 1, 0]))."
   ]
  },
  {
   "cell_type": "code",
   "execution_count": 2,
   "id": "74709d8c",
   "metadata": {},
   "outputs": [
    {
     "name": "stdout",
     "output_type": "stream",
     "text": [
      "[9 8 7 6 5 4 3 2 1 0]\n"
     ]
    }
   ],
   "source": [
    "n = 10\n",
    "a = np.arange(0, n)[::-1]\n",
    "print(a)"
   ]
  },
  {
   "cell_type": "markdown",
   "id": "314ee30a",
   "metadata": {},
   "source": [
    "Задание 2 Создайте диагональную матрицу с элементами от N до 0. Посчитайте сумму её значений на диагонали."
   ]
  },
  {
   "cell_type": "code",
   "execution_count": 3,
   "id": "2dbc42d2",
   "metadata": {},
   "outputs": [
    {
     "name": "stdout",
     "output_type": "stream",
     "text": [
      "55\n"
     ]
    }
   ],
   "source": [
    "n = 10\n",
    "matrix = np.diag(np.arange(n,0,-1))\n",
    "print(sum(sum(matrix)))"
   ]
  },
  {
   "cell_type": "markdown",
   "id": "05088555",
   "metadata": {},
   "source": [
    "Задание 3 Решите систему уравнений:\n",
    "\n",
    "4x + 2y + z = 4\n",
    "x + 3y = 12\n",
    "5y + 4z = -3"
   ]
  },
  {
   "cell_type": "code",
   "execution_count": 4,
   "id": "662526cd",
   "metadata": {},
   "outputs": [
    {
     "data": {
      "text/plain": [
       "array([ 0.46666667,  3.84444444, -5.55555556])"
      ]
     },
     "execution_count": 4,
     "metadata": {},
     "output_type": "execute_result"
    }
   ],
   "source": [
    "a = np.array([[4,2,1],[1,3,0],[0,5,4]])\n",
    "b = np.array([4,12,-3])\n",
    "linalg.solve(a,b)"
   ]
  },
  {
   "cell_type": "markdown",
   "id": "89f13933",
   "metadata": {},
   "source": [
    "Проверка верности"
   ]
  },
  {
   "cell_type": "code",
   "execution_count": 5,
   "id": "d749f965",
   "metadata": {},
   "outputs": [
    {
     "data": {
      "text/plain": [
       "True"
      ]
     },
     "execution_count": 5,
     "metadata": {},
     "output_type": "execute_result"
    }
   ],
   "source": [
    "np.allclose( np.dot(a, linalg.solve(a, b)), b )"
   ]
  },
  {
   "cell_type": "markdown",
   "id": "c7997c22",
   "metadata": {},
   "source": [
    "Задача 4 Имеется матрица покупок в интернет-магазине. Столбец А - ID пользователя. Остальные столбцы - количество покупок категорий товаров этим пользователем:"
   ]
  },
  {
   "cell_type": "code",
   "execution_count": null,
   "id": "8e6be46c",
   "metadata": {},
   "outputs": [],
   "source": [
    "from IPython.display import Image\n",
    "Image(\"user_matrix.JPG\")"
   ]
  },
  {
   "cell_type": "markdown",
   "id": "ff3c2260",
   "metadata": {},
   "source": [
    "Матрица в виде numpy array"
   ]
  },
  {
   "cell_type": "code",
   "execution_count": 7,
   "id": "2b954309",
   "metadata": {},
   "outputs": [],
   "source": [
    "users_stats = np.array(\n",
    "    [\n",
    "        [2, 1, 0, 0, 0, 0],\n",
    "        [1, 1, 2, 1, 0, 0],\n",
    "        [2, 0, 1, 0, 0, 0],\n",
    "        [1, 1, 2, 1, 0, 1],\n",
    "        [0, 0, 1, 2, 0, 0],\n",
    "        [0, 0, 0, 0, 0, 5],\n",
    "        [1, 0, 0, 0, 0, 0],\n",
    "        [0, 1, 1, 0, 0, 0],\n",
    "        [0, 0, 0, 1, 1, 3],\n",
    "        [1, 0, 0, 2, 1, 4]\n",
    "    ], \n",
    "    np.int32\n",
    ")"
   ]
  },
  {
   "cell_type": "markdown",
   "id": "72263e6d",
   "metadata": {},
   "source": [
    "На сайт заходит очередной посетитель, о покупках которого известно следующее:"
   ]
  },
  {
   "cell_type": "code",
   "execution_count": 8,
   "id": "aebb4531",
   "metadata": {},
   "outputs": [],
   "source": [
    "next_user_stats = np.array([0, 1, 2, 0, 0, 0])"
   ]
  },
  {
   "cell_type": "markdown",
   "id": "67f0ae8f",
   "metadata": {},
   "source": [
    "Найдите самого похожего пользователя. Т. е. посчитайте косинусное сходство между этим пользователем и всеми пользователями из массива user_stats"
   ]
  },
  {
   "cell_type": "markdown",
   "id": "e84cd37c",
   "metadata": {},
   "source": [
    "1 вариант"
   ]
  },
  {
   "cell_type": "code",
   "execution_count": 9,
   "id": "cdb50114",
   "metadata": {},
   "outputs": [
    {
     "name": "stdout",
     "output_type": "stream",
     "text": [
      "ID пользователя: 8\n",
      "[0 1 1 0 0 0]\n"
     ]
    }
   ],
   "source": [
    "cosine = np.dot(users_stats, next_user_stats)/(np.linalg.norm(users_stats, axis=1))/np.linalg.norm(next_user_stats)\n",
    "\n",
    "idx = np.argmax(cosine)\n",
    "\n",
    "print('ID пользователя:', idx + 1)\n",
    "print(users_stats[idx])"
   ]
  },
  {
   "cell_type": "markdown",
   "id": "8540c9f3",
   "metadata": {},
   "source": [
    "2 вариант"
   ]
  },
  {
   "cell_type": "code",
   "execution_count": 10,
   "id": "066f6318",
   "metadata": {},
   "outputs": [
    {
     "name": "stdout",
     "output_type": "stream",
     "text": [
      "ID пользователя: 8\n",
      "[0 1 1 0 0 0]\n"
     ]
    }
   ],
   "source": [
    "def cosine(users_stats, next_user_stats):\n",
    "    users_stats_Length = np.linalg.norm(users_stats)\n",
    "    next_user_stats_Length = np.linalg.norm(next_user_stats)\n",
    "    \n",
    "    return np.dot(users_stats, next_user_stats) / (users_stats_Length * next_user_stats_Length)\n",
    "\n",
    "muls = np.apply_along_axis(cosine, 1, users_stats, next_user_stats)\n",
    "\n",
    "best_user = np.argmax(muls)\n",
    "\n",
    "print('ID пользователя:', best_user + 1)\n",
    "print(users_stats[best_user])"
   ]
  },
  {
   "cell_type": "markdown",
   "id": "ac8d31ea",
   "metadata": {},
   "source": [
    "3 вариант"
   ]
  },
  {
   "cell_type": "code",
   "execution_count": 11,
   "id": "918860cd",
   "metadata": {},
   "outputs": [
    {
     "name": "stdout",
     "output_type": "stream",
     "text": [
      "8\n"
     ]
    }
   ],
   "source": [
    "def cosine(users_stats, next_user_stats):\n",
    "    users_stats_Length = np.linalg.norm(users_stats)\n",
    "    next_user_stats_Length = np.linalg.norm(next_user_stats)\n",
    "    \n",
    "    return np.dot(users_stats, next_user_stats) / (users_stats_Length * next_user_stats_Length)\n",
    "\n",
    "muls = []\n",
    "for row in users_stats: \n",
    "    muls.append(cosine(row, next_user_stats))\n",
    "print(np.argmax(muls) + 1)"
   ]
  },
  {
   "cell_type": "markdown",
   "id": "41265948",
   "metadata": {},
   "source": [
    "Вывод: Исходя из полученных значений косинусных расстояний между векторами пользователей и нового пользователя можно сделать вывод, что самым похожим пользователем является пользователь номер 8. Пологаю наш новый пользователь не против приобрести"
   ]
  }
 ],
 "metadata": {
  "kernelspec": {
   "display_name": "Python 3",
   "language": "python",
   "name": "python3"
  },
  "language_info": {
   "codemirror_mode": {
    "name": "ipython",
    "version": 3
   },
   "file_extension": ".py",
   "mimetype": "text/x-python",
   "name": "python",
   "nbconvert_exporter": "python",
   "pygments_lexer": "ipython3",
   "version": "3.8.8"
  }
 },
 "nbformat": 4,
 "nbformat_minor": 5
}
